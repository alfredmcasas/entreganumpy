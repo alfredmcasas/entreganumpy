{
 "cells": [
  {
   "cell_type": "code",
   "execution_count": 67,
   "id": "e8e4c102",
   "metadata": {},
   "outputs": [],
   "source": [
    "import numpy as np\n",
    "import matplotlib.pyplot as plt\n"
   ]
  },
  {
   "cell_type": "code",
   "execution_count": 125,
   "id": "c01d63fd",
   "metadata": {},
   "outputs": [
    {
     "data": {
      "text/plain": [
       "array([  70,    0,   27,   64,    6,   47,    0,   16,   39,    8,  178,\n",
       "          2,   43,  108,   70,   58,    1,   18,   52,    6,  109,    1,\n",
       "         40,  103,    6,    6,    0,    2,    7,   -1,   57,    0,   12,\n",
       "         65,   -8,    3,    0,    3,    2,    1,   62,    1,   26,   59,\n",
       "          3,   10,    0,    4,   10,    0,   50,    0,   15,   55,   -5,\n",
       "        340,    4,  112,  294,   46,   20,    0,    9,   30,  -10,  100,\n",
       "          0,   37,   85,   15,  109,    1,   29,   94,   15,   41,    0,\n",
       "         14,   42,   -1,  208,    0,   92,  219,  -11,   35,    0,   17,\n",
       "         25,   10,   14,    0,   11,    8,    6,    5,    0,    1,    4,\n",
       "          1,  434,    1,   98,  315,  119,    3,    0,    0,    0,    3,\n",
       "         35,    0,   14,   45,  -10,    1,    0,    0,    3,   -2,  186,\n",
       "          1,   42,  172,   14,   39,    0,   13,   30,    9,   91,    1,\n",
       "         28,   52,   39,    4,    0,    1,    3,    1,  334,    0,   71,\n",
       "        246,   88,   16,    0,    2,   12,    4,   58,    0,   17,   44,\n",
       "         14,   24,    0,   10,   23,    1,  277,    3,   98,  218,   59,\n",
       "        445,    0,   81,  341,  104,   13,    0,    8,   10,    3,  239,\n",
       "          1,   88,  189,   50,   19,    0,    9,   30,  -11,  264,    2,\n",
       "         95,  200,   64,   33,    0,   14,   29,    4,    6,    0,    8,\n",
       "          3,    3,   22,    1,    7,   30,   -8,   77,    0,   23,   71,\n",
       "          6, 3345,   16, 1114, 3355,  -10,   26,    0,    7,   28,   -2,\n",
       "        170,    1,   27,  108,   62,  130,    0,   50,  134,   -4,   50,\n",
       "          0,   10,   58,   -8,   13,    0,    3,   12,    1,   34,    0,\n",
       "          7,   42,   -8,  230,    2,   62,  151,   79,   23,    0,    4,\n",
       "         46,  -23,   52,    0,    9,   49,    3,  237,    1,   64,  141,\n",
       "         96,   61,    0,   25,   55,    6,   37,    0,   20,   41,   -4,\n",
       "          8,    0,    5,   11,   -3,  303,    0,  113,  229,   74,   92,\n",
       "          0,   35,  110,  -18,   63,    0,   20,   65,   -2,   86,    0,\n",
       "         23,  128,  -42,   33,    0,   14,   28,    5,   28,    0,   11,\n",
       "         31,   -3,   32,    0,    6,   43,  -11,   94,    0,   33,  131,\n",
       "        -37,  104,    0,   32,   91,   13,   13,    0,    4,   17,   -4,\n",
       "         49,    0,    7,   24,   25])"
      ]
     },
     "execution_count": 125,
     "metadata": {},
     "output_type": "execute_result"
    }
   ],
   "source": [
    "balearesdf = np.genfromtxt(\"D:\\Documentos\\Master\\R\\datos\\Datos_Baleares.csv\", delimiter = \";\", dtype = str)\n",
    "\n",
    "#Cogemos solo la parte de valores Totales, excluyendo el primer valor que es la cabecera\n",
    "Total_array = balearesdf[1:,2]\n",
    "\n",
    "# Transformamos los datos para que no den problemas los separadores de miles los trata como decimales\n",
    "Total_array = [i.replace(\".\",\"\") for i in Total_array]\n",
    "Total_array = np.asarray(Total_array)\n",
    "Total_array = Total_array.astype(int)\n",
    "\n",
    "Total_array"
   ]
  },
  {
   "cell_type": "code",
   "execution_count": 126,
   "id": "2b640270",
   "metadata": {},
   "outputs": [],
   "source": [
    "# Creamos un numpy array a partir de la columna Total del dataframe\n",
    "\n",
    "\n",
    "\n",
    "\n",
    "# Creamos una serie para cada fenómeno demográfico, cogiendo los indices que queremos, como hay 5 fenómenos por municipio \n",
    "# empezamos por el primero, el 0, y guardamos cada 5. Luego empezamos por el 1, etc.\n",
    "\n",
    "indices_vivosmaterna = np.arange(0, len(Total_array), 5)\n",
    "serie_nacidos_materna = Total_array[indices_vivosmaterna]\n",
    "\n",
    "\n",
    "indices_muertesmaterna = np.arange(1, len(Total_array), 5)\n",
    "serie_muertes_materna = Total_array[indices_muertesmaterna]\n",
    "\n",
    "\n",
    "indices_matrimonios = np.arange(2, len(Total_array), 5)\n",
    "serie_matrimonios = Total_array[indices_matrimonios]\n",
    "\n",
    "\n",
    "indices_fallcidos = np.arange(3, len(Total_array), 5)\n",
    "serie_fallecidos = Total_array[indices_fallcidos]\n",
    "\n",
    "\n",
    "indices_crecvegetaivo = np.arange(4, len(Total_array), 5)\n",
    "serie_crecvegetaivo = Total_array[indices_crecvegetaivo]\n",
    "\n"
   ]
  },
  {
   "cell_type": "code",
   "execution_count": 127,
   "id": "81c957f4",
   "metadata": {},
   "outputs": [],
   "source": [
    "# Calculamos algunas estadisticas de cada serie\n",
    "\n",
    "nacidos_materna_mean = np.mean(serie_nacidos_materna) # 141,11\n",
    "nacidos_materna_sd = np.std(serie_nacidos_materna)    # 408\n",
    "nacidos_materna_max = np.max(serie_nacidos_materna)   # 3345\n",
    "nacidos_materna_min = np.min(serie_nacidos_materna)   # 1\n",
    "\n",
    "muertes_materna_mean = np.mean(serie_muertes_materna) # 0,59\n",
    "muertes_materna_sd = np.std(serie_muertes_materna)    # 2\n",
    "muertes_materna_max = np.max(serie_muertes_materna)   # 16\n",
    "muertes_materna_min = np.min(serie_muertes_materna)   # 0\n",
    "\n",
    "matrimonios_mean = np.mean(serie_matrimonios)         # 44,17\n",
    "matrimonios_sd = np.std(serie_matrimonios)            # 135\n",
    "matrimonios_max = np.max(serie_matrimonios)           # 1114\n",
    "matrimonios_min = np.min(serie_matrimonios)           # 0\n",
    "\n",
    "fallecidos_mean = np.mean(serie_fallecidos)           # 127,4\n",
    "fallecidos_sd = np.std(serie_fallecidos)              # 405\n",
    "fallecidos_max = np.max(serie_fallecidos)             # 3335        \n",
    "fallecidos_min = np.min(serie_fallecidos)             # 0\n",
    "\n",
    "crecvegetaivo_mean = np.mean(serie_crecvegetaivo)     # 13,37\n",
    "crecvegetaivo_sd = np.std(serie_crecvegetaivo)        # 32,67\n",
    "crecvegetaivo_max = np.max(serie_crecvegetaivo)       # 119\n",
    "crecvegetaivo_min = np.min(serie_crecvegetaivo)       # -42"
   ]
  },
  {
   "cell_type": "code",
   "execution_count": 128,
   "id": "693a3c20",
   "metadata": {},
   "outputs": [
    {
     "data": {
      "text/plain": [
       "<function matplotlib.pyplot.show(close=None, block=None)>"
      ]
     },
     "execution_count": 128,
     "metadata": {},
     "output_type": "execute_result"
    },
    {
     "data": {
      "image/png": "[encoded data removed]",
      "text/plain": [
       "<Figure size 640x480 with 1 Axes>"
      ]
     },
     "metadata": {},
     "output_type": "display_data"
    }
   ],
   "source": [
    "# Creamos algún gráfico por ejemplo \"nacidos vivos por residencia materna\" por municipio\n",
    "\n",
    "plt.bar(np.arange(0,len(serie_nacidos_materna)),serie_nacidos_materna)\n",
    "plt.show\n",
    "\n",
    "#Vemos que la barra mas alta es el municipio 42, referente a Palma\n",
    "\n"
   ]
  },
  {
   "cell_type": "code",
   "execution_count": 129,
   "id": "4e72d0a2",
   "metadata": {},
   "outputs": [
    {
     "data": {
      "text/plain": [
       "<function matplotlib.pyplot.show(close=None, block=None)>"
      ]
     },
     "execution_count": 129,
     "metadata": {},
     "output_type": "execute_result"
    },
    {
     "data": {
      "image/png": "[encoded data removed]",
      "text/plain": [
       "<Figure size 640x480 with 1 Axes>"
      ]
     },
     "metadata": {},
     "output_type": "display_data"
    }
   ],
   "source": [
    "#Otro, por ejemplo, con el crecimiento vegetativo\n",
    "\n",
    "plt.bar(np.arange(0,len(serie_crecvegetaivo)),serie_crecvegetaivo)\n",
    "plt.show\n",
    "\n"
   ]
  },
  {
   "cell_type": "code",
   "execution_count": 107,
   "id": "bfff4ea3",
   "metadata": {},
   "outputs": [],
   "source": [
    "#Vemos que el municipio 59 es el que mayor decrecimiento vegetativo ha tenido y el 20 el que mas. \n",
    "\n",
    "\n",
    "#La isla de Eivissa es la que mayor crecimiento vegetativo presenta y el municipio de Santanyi el que mayor decrecimiento."
   ]
  },
  {
   "cell_type": "code",
   "execution_count": null,
   "id": "f75ae310",
   "metadata": {},
   "outputs": [],
   "source": [
    "\n"
   ]
  },
  {
   "cell_type": "code",
   "execution_count": null,
   "id": "cad1b75f",
   "metadata": {},
   "outputs": [],
   "source": []
  },
  {
   "cell_type": "code",
   "execution_count": null,
   "id": "1a1135dd",
   "metadata": {},
   "outputs": [],
   "source": []
  }
 ],
 "metadata": {
  "kernelspec": {
   "display_name": "Python 3 (ipykernel)",
   "language": "python",
   "name": "python3"
  },
  "language_info": {
   "codemirror_mode": {
    "name": "ipython",
    "version": 3
   },
   "file_extension": ".py",
   "mimetype": "text/x-python",
   "name": "python",
   "nbconvert_exporter": "python",
   "pygments_lexer": "ipython3",
   "version": "3.11.0"
  }
 },
 "nbformat": 4,
 "nbformat_minor": 5
}
