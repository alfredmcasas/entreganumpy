{
 "cells": [
  {
   "cell_type": "code",
   "execution_count": 2,
   "id": "8cd04d8b",
   "metadata": {},
   "outputs": [],
   "source": [
    "import numpy as np\n",
    "import matplotlib.pyplot as plt"
   ]
  },
  {
   "cell_type": "code",
   "execution_count": 144,
   "id": "9d29d3c4",
   "metadata": {},
   "outputs": [],
   "source": [
    "# Me estaba dando muchos problemas para cargar los datos por las comas entre algunos de los valores de la columna grantee\n",
    "# No he encontrado una manera mejor asi que he abierto los datos en excel y le he cambiado el separador a \";\" en lugar de \",\" \n",
    "# Asi almenos he coneguido cargar los datos con numpy\n",
    "\n",
    "especulaciondf = np.genfromtxt(\"D:\\Documentos\\Master\\R\\datos\\Especulacion.csv\",  delimiter = \";\", dtype = str)\n"
   ]
  },
  {
   "cell_type": "code",
   "execution_count": 145,
   "id": "331e7c53",
   "metadata": {},
   "outputs": [
    {
     "data": {
      "text/plain": [
       "500000"
      ]
     },
     "execution_count": 145,
     "metadata": {},
     "output_type": "execute_result"
    }
   ],
   "source": [
    "colnames = especulaciondf[0]\n",
    "colnames\n",
    "\n",
    "# Creamos un array con solo los precios, desde la fila 1 para no incluir la cabecera y aplicamos transformaciones para quitar\n",
    "# las comas que dan problemas y convertir los datos en tipo int para poder calcular.\n",
    "\n",
    "price = especulaciondf[1:,11]\n",
    "price = [i.replace(\",\",\"\") for i in price]\n",
    "price = np.asarray(price)\n",
    "price = price.astype(int)\n",
    "\n",
    "\n",
    "np.mean(price)\n",
    "np.max(price)\n",
    "np.min(price)"
   ]
  },
  {
   "cell_type": "code",
   "execution_count": 146,
   "id": "8c1bbbd5",
   "metadata": {},
   "outputs": [
    {
     "data": {
      "text/plain": [
       "9284909.485018726"
      ]
     },
     "execution_count": 146,
     "metadata": {},
     "output_type": "execute_result"
    }
   ],
   "source": [
    "np.mean(price)"
   ]
  },
  {
   "cell_type": "code",
   "execution_count": 147,
   "id": "f28d2556",
   "metadata": {},
   "outputs": [
    {
     "data": {
      "text/plain": [
       "90000000"
      ]
     },
     "execution_count": 147,
     "metadata": {},
     "output_type": "execute_result"
    }
   ],
   "source": [
    "np.max(price)"
   ]
  },
  {
   "cell_type": "code",
   "execution_count": 148,
   "id": "64fcf5cd",
   "metadata": {},
   "outputs": [
    {
     "data": {
      "text/plain": [
       "500000"
      ]
     },
     "execution_count": 148,
     "metadata": {},
     "output_type": "execute_result"
    }
   ],
   "source": [
    "np.min(price)"
   ]
  },
  {
   "cell_type": "code",
   "execution_count": 149,
   "id": "96b700ca",
   "metadata": {},
   "outputs": [],
   "source": [
    "colnames\n",
    "\n",
    "#Hacemos los mismo para ratio de capitalización\n",
    "\n",
    "cap_rate = especulaciondf[1:,12]\n",
    "cap_rate = [i.replace(\",\",\"\") for i in cap_rate]\n",
    "cap_rate = np.asarray(cap_rate)\n",
    "cap_rate = cap_rate.astype(float)\n"
   ]
  },
  {
   "cell_type": "code",
   "execution_count": 150,
   "id": "5d039099",
   "metadata": {},
   "outputs": [
    {
     "data": {
      "text/plain": [
       "0.03393258426966293"
      ]
     },
     "execution_count": 150,
     "metadata": {},
     "output_type": "execute_result"
    }
   ],
   "source": [
    "np.mean(cap_rate)"
   ]
  },
  {
   "cell_type": "code",
   "execution_count": 151,
   "id": "4cee4331",
   "metadata": {},
   "outputs": [
    {
     "data": {
      "text/plain": [
       "0.068"
      ]
     },
     "execution_count": 151,
     "metadata": {},
     "output_type": "execute_result"
    }
   ],
   "source": [
    "np.max(cap_rate)"
   ]
  },
  {
   "cell_type": "code",
   "execution_count": 152,
   "id": "ff6cc9ee",
   "metadata": {},
   "outputs": [
    {
     "data": {
      "text/plain": [
       "0.008"
      ]
     },
     "execution_count": 152,
     "metadata": {},
     "output_type": "execute_result"
    }
   ],
   "source": [
    "np.min(cap_rate)"
   ]
  },
  {
   "cell_type": "markdown",
   "id": "94da1db4",
   "metadata": {},
   "source": [
    "El ratio de capitalización es el \"net_operating_income/Property_value\" lo que quiere decir los ingresos que genera una propiedad proporcionales a su valor.\n",
    "\n",
    "Vemos que el cap_rate medio es del 3,3%, el máximo 6,8% y el mas bajo 0,8%"
   ]
  },
  {
   "cell_type": "code",
   "execution_count": 153,
   "id": "7dfe18c7",
   "metadata": {},
   "outputs": [],
   "source": [
    "postcode = especulaciondf[1:,15]\n",
    "postcode\n",
    "\n",
    "# Ahora vamos a encontrar cuantas propiedades hay por codigo postal\n",
    "\n",
    "#Con este codigo contamos los valores unicos del array de la columna postcode y sacamos sus indices\n",
    "\n",
    "valores_unicos , indices = np.unique(postcode, return_inverse=True)\n",
    "\n",
    "# Con un bucle guardamos en arrays diferentes cada vez que aparezca el mismo valor\n",
    "agrupacion = [postcode[indices == i] for i in range(len(valores_unicos))]\n",
    "\n",
    "# Y finalmente contamos cuantos elementos hay en cada array creado con la funcion len que nos da la longitud del array\n",
    "\n",
    "conteo = [len(unico) for unico in agrupacion]"
   ]
  },
  {
   "cell_type": "code",
   "execution_count": 154,
   "id": "6bac4ed6",
   "metadata": {},
   "outputs": [
    {
     "data": {
      "text/plain": [
       "[('', 5),\n",
       " ('10002', 11),\n",
       " ('10003', 11),\n",
       " ('10009', 8),\n",
       " ('10011', 7),\n",
       " ('10012', 3),\n",
       " ('10013', 5),\n",
       " ('10014', 1),\n",
       " ('10019', 3),\n",
       " ('10021', 2),\n",
       " ('10022', 3),\n",
       " ('10023', 1),\n",
       " ('10024', 6),\n",
       " ('10025', 6),\n",
       " ('10026', 12),\n",
       " ('10027', 4),\n",
       " ('10029', 2),\n",
       " ('10030', 2),\n",
       " ('10031', 13),\n",
       " ('10032', 21),\n",
       " ('10033', 24),\n",
       " ('10034', 2),\n",
       " ('10035', 1),\n",
       " ('10036', 1),\n",
       " ('10038', 1),\n",
       " ('10040', 5),\n",
       " ('10065', 3),\n",
       " ('10075', 1),\n",
       " ('10128', 5),\n",
       " ('10301', 3),\n",
       " ('10302', 1),\n",
       " ('10451', 2),\n",
       " ('10452', 9),\n",
       " ('10453', 9),\n",
       " ('10454', 5),\n",
       " ('10455', 5),\n",
       " ('10456', 9),\n",
       " ('10457', 7),\n",
       " ('10458', 24),\n",
       " ('10459', 7),\n",
       " ('10460', 5),\n",
       " ('10461', 11),\n",
       " ('10462', 8),\n",
       " ('10463', 4),\n",
       " ('10466', 2),\n",
       " ('10467', 10),\n",
       " ('10468', 17),\n",
       " ('10469', 2),\n",
       " ('10470', 1),\n",
       " ('10471', 1),\n",
       " ('10472', 6),\n",
       " ('10474', 1),\n",
       " ('11101', 2),\n",
       " ('11102', 2),\n",
       " ('11103', 5),\n",
       " ('11105', 3),\n",
       " ('11106', 2),\n",
       " ('11201', 1),\n",
       " ('11203', 5),\n",
       " ('11204', 5),\n",
       " ('11206', 1),\n",
       " ('11207', 1),\n",
       " ('11208', 1),\n",
       " ('11209', 9),\n",
       " ('11210', 7),\n",
       " ('11211', 5),\n",
       " ('11212', 1),\n",
       " ('11213', 7),\n",
       " ('11214', 5),\n",
       " ('11215', 4),\n",
       " ('11216', 6),\n",
       " ('11217', 2),\n",
       " ('11218', 7),\n",
       " ('11219', 10),\n",
       " ('11220', 15),\n",
       " ('11221', 5),\n",
       " ('11222', 2),\n",
       " ('11223', 1),\n",
       " ('11225', 3),\n",
       " ('11226', 17),\n",
       " ('11229', 5),\n",
       " ('11230', 17),\n",
       " ('11232', 3),\n",
       " ('11233', 3),\n",
       " ('11235', 1),\n",
       " ('11238', 6),\n",
       " ('11249', 1),\n",
       " ('11355', 7),\n",
       " ('11358', 3),\n",
       " ('11361', 2),\n",
       " ('11368', 2),\n",
       " ('11373', 2),\n",
       " ('11374', 2),\n",
       " ('11375', 1),\n",
       " ('11377', 3),\n",
       " ('11379', 1),\n",
       " ('11385', 2),\n",
       " ('11415', 1),\n",
       " ('11416', 1),\n",
       " ('11417', 1),\n",
       " ('11418', 1),\n",
       " ('11419', 1),\n",
       " ('11421', 1),\n",
       " ('11423', 4),\n",
       " ('11429', 1),\n",
       " ('11432', 3),\n",
       " ('11435', 1),\n",
       " ('11691', 4),\n",
       " ('11694', 2)]"
      ]
     },
     "execution_count": 154,
     "metadata": {},
     "output_type": "execute_result"
    }
   ],
   "source": [
    "# Añadimos el valor unico al lado de cada conteo porque si no se entiende nada.\n",
    "\n",
    "listado_final = list(zip(valores_unicos, conteo))\n",
    "listado_final"
   ]
  },
  {
   "cell_type": "markdown",
   "id": "4d25be1c",
   "metadata": {},
   "source": [
    "Obtenemos cuantas observaciones hay por cada postcode, en este caso casas diferentes por cada codigo postal.\n",
    "\n",
    "Vemos que el codigo postal 10458 junto con el 10033 con 24 propiedades son los que mas. Buscando en Google sale que son los barrios de Belmont|The Bronx y Washington Heights respectivamente en el estado de Nueva York."
   ]
  },
  {
   "cell_type": "code",
   "execution_count": null,
   "id": "be51b8b5",
   "metadata": {},
   "outputs": [],
   "source": []
  }
 ],
 "metadata": {
  "kernelspec": {
   "display_name": "Python 3 (ipykernel)",
   "language": "python",
   "name": "python3"
  },
  "language_info": {
   "codemirror_mode": {
    "name": "ipython",
    "version": 3
   },
   "file_extension": ".py",
   "mimetype": "text/x-python",
   "name": "python",
   "nbconvert_exporter": "python",
   "pygments_lexer": "ipython3",
   "version": "3.11.0"
  }
 },
 "nbformat": 4,
 "nbformat_minor": 5
}
